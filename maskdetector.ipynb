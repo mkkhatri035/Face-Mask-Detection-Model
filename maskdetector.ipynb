{
 "cells": [
  {
   "cell_type": "markdown",
   "metadata": {
    "id": "j_7Rx9sbCRwM"
   },
   "source": [
    "Mask detector for a single person in image"
   ]
  },
  {
   "cell_type": "code",
   "execution_count": 1,
   "metadata": {
    "executionInfo": {
     "elapsed": 2827,
     "status": "ok",
     "timestamp": 1601741651173,
     "user": {
      "displayName": "MANISH KHATRI",
      "photoUrl": "",
      "userId": "10655665884709808241"
     },
     "user_tz": -330
    },
    "id": "eR3nXnx_Wl7z"
   },
   "outputs": [],
   "source": [
    "from keras.models import Sequential\n",
    "from keras.layers import Conv2D\n",
    "from keras.layers import MaxPooling2D\n",
    "from keras.layers import Flatten\n",
    "from keras.layers import Dense , Dropout"
   ]
  },
  {
   "cell_type": "code",
   "execution_count": 12,
   "metadata": {
    "executionInfo": {
     "elapsed": 988,
     "status": "ok",
     "timestamp": 1601742418375,
     "user": {
      "displayName": "MANISH KHATRI",
      "photoUrl": "",
      "userId": "10655665884709808241"
     },
     "user_tz": -330
    },
    "id": "z2ZMzfcqWmfk"
   },
   "outputs": [],
   "source": [
    "model = Sequential()"
   ]
  },
  {
   "cell_type": "code",
   "execution_count": 13,
   "metadata": {
    "executionInfo": {
     "elapsed": 676,
     "status": "ok",
     "timestamp": 1601742418908,
     "user": {
      "displayName": "MANISH KHATRI",
      "photoUrl": "",
      "userId": "10655665884709808241"
     },
     "user_tz": -330
    },
    "id": "nz2i7sZDWpQl"
   },
   "outputs": [],
   "source": [
    "\n",
    "model.add(Conv2D(32 , (7,7), input_shape=(224,224,3) , activation='relu'))\n"
   ]
  },
  {
   "cell_type": "code",
   "execution_count": 14,
   "metadata": {
    "executionInfo": {
     "elapsed": 1035,
     "status": "ok",
     "timestamp": 1601742420678,
     "user": {
      "displayName": "MANISH KHATRI",
      "photoUrl": "",
      "userId": "10655665884709808241"
     },
     "user_tz": -330
    },
    "id": "mgcFaBk6Wq4g"
   },
   "outputs": [],
   "source": [
    "model.add(MaxPooling2D(pool_size=(2,2)))\n",
    "model.add(Conv2D(32,(7,7), activation = 'relu'))\n",
    "model.add(MaxPooling2D(pool_size=(2,2)))"
   ]
  },
  {
   "cell_type": "code",
   "execution_count": 15,
   "metadata": {
    "executionInfo": {
     "elapsed": 641,
     "status": "ok",
     "timestamp": 1601742421838,
     "user": {
      "displayName": "MANISH KHATRI",
      "photoUrl": "",
      "userId": "10655665884709808241"
     },
     "user_tz": -330
    },
    "id": "7nwRO2caWu02"
   },
   "outputs": [],
   "source": [
    "model.add(Flatten())"
   ]
  },
  {
   "cell_type": "code",
   "execution_count": 16,
   "metadata": {
    "colab": {
     "base_uri": "https://localhost:8080/",
     "height": 514
    },
    "executionInfo": {
     "elapsed": 966,
     "status": "ok",
     "timestamp": 1601742423357,
     "user": {
      "displayName": "MANISH KHATRI",
      "photoUrl": "",
      "userId": "10655665884709808241"
     },
     "user_tz": -330
    },
    "id": "jseAT6nUWxRF",
    "outputId": "516c752f-7801-495e-b6d1-96840eb8df8c"
   },
   "outputs": [
    {
     "name": "stdout",
     "output_type": "stream",
     "text": [
      "Model: \"sequential_1\"\n",
      "_________________________________________________________________\n",
      "Layer (type)                 Output Shape              Param #   \n",
      "=================================================================\n",
      "conv2d_2 (Conv2D)            (None, 218, 218, 32)      4736      \n",
      "_________________________________________________________________\n",
      "max_pooling2d_2 (MaxPooling2 (None, 109, 109, 32)      0         \n",
      "_________________________________________________________________\n",
      "conv2d_3 (Conv2D)            (None, 103, 103, 32)      50208     \n",
      "_________________________________________________________________\n",
      "max_pooling2d_3 (MaxPooling2 (None, 51, 51, 32)        0         \n",
      "_________________________________________________________________\n",
      "flatten_1 (Flatten)          (None, 83232)             0         \n",
      "_________________________________________________________________\n",
      "dense_7 (Dense)              (None, 128)               10653824  \n",
      "_________________________________________________________________\n",
      "dropout_5 (Dropout)          (None, 128)               0         \n",
      "_________________________________________________________________\n",
      "dense_8 (Dense)              (None, 64)                8256      \n",
      "_________________________________________________________________\n",
      "dropout_6 (Dropout)          (None, 64)                0         \n",
      "_________________________________________________________________\n",
      "dense_9 (Dense)              (None, 1)                 65        \n",
      "=================================================================\n",
      "Total params: 10,717,089\n",
      "Trainable params: 10,717,089\n",
      "Non-trainable params: 0\n",
      "_________________________________________________________________\n"
     ]
    }
   ],
   "source": [
    "\n",
    "model.add(Dense(units=128 , activation='relu'))\n",
    "model.add(Dropout(0.6))\n",
    "model.add(Dense(units=64, activation = 'relu'))\n",
    "model.add(Dropout(0.3))\n",
    "model.add(Dense(units=1  , activation='sigmoid'))\n",
    "model.summary()"
   ]
  },
  {
   "cell_type": "code",
   "execution_count": 17,
   "metadata": {
    "executionInfo": {
     "elapsed": 1022,
     "status": "ok",
     "timestamp": 1601742430653,
     "user": {
      "displayName": "MANISH KHATRI",
      "photoUrl": "",
      "userId": "10655665884709808241"
     },
     "user_tz": -330
    },
    "id": "PzligwgWW1iN"
   },
   "outputs": [],
   "source": [
    "model.compile(optimizer='adam', loss='binary_crossentropy', metrics=['accuracy'])"
   ]
  },
  {
   "cell_type": "code",
   "execution_count": 18,
   "metadata": {
    "executionInfo": {
     "elapsed": 634,
     "status": "ok",
     "timestamp": 1601742431877,
     "user": {
      "displayName": "MANISH KHATRI",
      "photoUrl": "",
      "userId": "10655665884709808241"
     },
     "user_tz": -330
    },
    "id": "-vWLHKyBW4Fl"
   },
   "outputs": [],
   "source": [
    "from keras.preprocessing.image import ImageDataGenerator\n",
    "training_datagen= ImageDataGenerator(rescale=1/255 , shear_range=0.2 , zoom_range=0.2, horizontal_flip=True)"
   ]
  },
  {
   "cell_type": "code",
   "execution_count": 19,
   "metadata": {
    "colab": {
     "base_uri": "https://localhost:8080/",
     "height": 52
    },
    "executionInfo": {
     "elapsed": 949,
     "status": "ok",
     "timestamp": 1601742433559,
     "user": {
      "displayName": "MANISH KHATRI",
      "photoUrl": "",
      "userId": "10655665884709808241"
     },
     "user_tz": -330
    },
    "id": "BVBNmwV5W9A2",
    "outputId": "a23c09b3-1d13-4098-fcb9-dac9ecf33c95"
   },
   "outputs": [
    {
     "name": "stdout",
     "output_type": "stream",
     "text": [
      "Found 1386 images belonging to 2 classes.\n",
      "Found 6 images belonging to 2 classes.\n"
     ]
    }
   ],
   "source": [
    "testing_datagen=ImageDataGenerator(rescale=1/255)\n",
    "training_set=training_datagen.flow_from_directory('/trainset/', \n",
    "                                                   target_size=(224,224), batch_size=32 , class_mode= 'binary')\n",
    "test_set=testing_datagen.flow_from_directory('/testset/',\n",
    "                                             target_size=(224,224), batch_size=32 , class_mode= 'binary')"
   ]
  },
  {
   "cell_type": "code",
   "execution_count": null,
   "metadata": {
    "colab": {
     "base_uri": "https://localhost:8080/",
     "height": 514
    },
    "id": "tOouAOdhXBBE",
    "outputId": "c06211ab-8834-40a0-e852-7548e50cecf9"
   },
   "outputs": [
    {
     "name": "stdout",
     "output_type": "stream",
     "text": [
      "Epoch 1/25\n",
      "43/43 [==============================] - 222s 5s/step - loss: 0.5913 - accuracy: 0.7245\n",
      "Epoch 2/25\n",
      "43/43 [==============================] - 222s 5s/step - loss: 0.4144 - accuracy: 0.8479\n",
      "Epoch 3/25\n",
      "43/43 [==============================] - 227s 5s/step - loss: 0.2482 - accuracy: 0.9321\n",
      "Epoch 4/25\n",
      "43/43 [==============================] - 223s 5s/step - loss: 0.1782 - accuracy: 0.9483\n",
      "Epoch 5/25\n",
      "43/43 [==============================] - 222s 5s/step - loss: 0.1370 - accuracy: 0.9638\n",
      "Epoch 6/25\n",
      "43/43 [==============================] - 224s 5s/step - loss: 0.1211 - accuracy: 0.9645\n",
      "Epoch 7/25\n",
      "43/43 [==============================] - 223s 5s/step - loss: 0.2284 - accuracy: 0.9424\n",
      "Epoch 8/25\n",
      "43/43 [==============================] - 227s 5s/step - loss: 0.1456 - accuracy: 0.9542\n",
      "Epoch 9/25\n",
      "43/43 [==============================] - 223s 5s/step - loss: 0.0939 - accuracy: 0.9690\n",
      "Epoch 10/25\n",
      "43/43 [==============================] - 222s 5s/step - loss: 0.0953 - accuracy: 0.9712\n",
      "Epoch 11/25\n",
      "43/43 [==============================] - 222s 5s/step - loss: 0.0935 - accuracy: 0.9705\n",
      "Epoch 12/25\n",
      "43/43 [==============================] - 226s 5s/step - loss: 0.1895 - accuracy: 0.9490\n",
      "Epoch 13/25\n",
      "43/43 [==============================] - 222s 5s/step - loss: 0.1250 - accuracy: 0.9638\n",
      "Epoch 14/25\n",
      "27/43 [=================>............] - ETA: 1:21 - loss: 0.0906 - accuracy: 0.9691"
     ]
    }
   ],
   "source": [
    "model.fit_generator(training_set,steps_per_epoch=1376/32,epochs=25)"
   ]
  },
  {
   "cell_type": "code",
   "execution_count": null,
   "metadata": {
    "id": "Myw6uMTAbxNc"
   },
   "outputs": [],
   "source": [
    "y_pred=model.predict(test_set, batch_size=32)"
   ]
  },
  {
   "cell_type": "code",
   "execution_count": null,
   "metadata": {
    "id": "insbgly_ct70"
   },
   "outputs": [],
   "source": [
    "acc=model.evaluate(training_set,steps=1386,verbose=0)"
   ]
  },
  {
   "cell_type": "code",
   "execution_count": null,
   "metadata": {
    "id": "-nxA86VSeN23"
   },
   "outputs": [],
   "source": [
    "print(acc)"
   ]
  },
  {
   "cell_type": "code",
   "execution_count": null,
   "metadata": {
    "id": "f9HPpBR3eP9y"
   },
   "outputs": [],
   "source": [
    "for i in y_pred:\n",
    "  if (1-i)>0.6:\n",
    "    print(\"Masked\")\n",
    "  else:\n",
    "    print(\"not masked\")"
   ]
  },
  {
   "cell_type": "markdown",
   "metadata": {
    "id": "ycrLSFwmVkfn"
   },
   "source": [
    "this model classifies the masked and unmasked faces and has an accuracy of 94%"
   ]
  }
 ],
 "metadata": {
  "colab": {
   "authorship_tag": "ABX9TyOuZtHYZXTcMVAnmnB+MTsK",
   "collapsed_sections": [],
   "mount_file_id": "12r6yTAhEHUx4PQyugHc0Uloh-c6zPdTT",
   "name": "Untitled0.ipynb",
   "provenance": []
  },
  "kernelspec": {
   "display_name": "Python 3",
   "language": "python",
   "name": "python3"
  },
  "language_info": {
   "codemirror_mode": {
    "name": "ipython",
    "version": 3
   },
   "file_extension": ".py",
   "mimetype": "text/x-python",
   "name": "python",
   "nbconvert_exporter": "python",
   "pygments_lexer": "ipython3",
   "version": "3.8.3"
  }
 },
 "nbformat": 4,
 "nbformat_minor": 4
}
